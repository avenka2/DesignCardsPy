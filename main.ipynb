{
  "nbformat": 4,
  "nbformat_minor": 0,
  "metadata": {
    "colab": {
      "provenance": [],
      "authorship_tag": "ABX9TyP56wVF4cuizbPjv4RqlQPo",
      "include_colab_link": true
    },
    "kernelspec": {
      "name": "python3",
      "display_name": "Python 3"
    },
    "language_info": {
      "name": "python"
    }
  },
  "cells": [
    {
      "cell_type": "markdown",
      "metadata": {
        "id": "view-in-github",
        "colab_type": "text"
      },
      "source": [
        "<a href=\"https://colab.research.google.com/github/avenka2/DesignCardsPy/blob/main/main.ipynb\" target=\"_parent\"><img src=\"https://colab.research.google.com/assets/colab-badge.svg\" alt=\"Open In Colab\"/></a>"
      ]
    },
    {
      "cell_type": "code",
      "source": [
        "from PIL import Image, ImageDraw, ImageFont\n",
        "import textwrap\n",
        "\n",
        "class LineInfo:\n",
        "    def __init__(self, textbox_width, top_padding, bottom_padding, left_padding, right_padding, font_size, bold, color, justify, invert, line_type, text):\n",
        "        self.textbox_width = textbox_width\n",
        "        self.top_padding = top_padding\n",
        "        self.bottom_padding = bottom_padding\n",
        "        self.left_padding = left_padding\n",
        "        self.right_padding = right_padding\n",
        "        self.font_size = font_size\n",
        "        self.bold = bold\n",
        "        self.color = color\n",
        "        self.justify = justify\n",
        "        self.invert = invert\n",
        "        self.line_type = line_type\n",
        "        self.text = text\n",
        "\n",
        "# Create LineInfo objects for each line\n",
        "line_info_list = [\n",
        "    # textbox_width, top_padding, bottom_padding, left_padding, right_padding, font_size, bold, color, justify, invert, line_type, text\n",
        "    LineInfo(250, 15,  10, 40, 10, 100, True, 'yellow', 'Left', False, \"header\", \"1\"),\n",
        "    LineInfo(250, 100, 150, 10, 10, 100, True, 'black', 'center', False, \"text\", \"VIVEKA\"),\n",
        "    LineInfo(350, 10,  10, 10, 10, 25, True, 'black', 'center', False, \"text\", \"नासतो विद्यते भावो नाभावो विद्यते सत: |  उभयोरपि दृष्टोऽन्तस्त्वनयोस्तत्त्वदर्शिभि: || 16||\"),\n",
        "    LineInfo(350, 25,  25, 10, 10, 25, True, 'black', 'center', False, \"text\", \"BG2.16: The unreal has no being, the real has no non-being. The final truth of these two has been seen indeed by those who have experienced the essence of things.\"),\n",
        "    LineInfo(300, 40,  10, 40, 40, 25, True, 'black', 'center', False, \"text\", \"Caught in the illusion (Maya) of the ever-changing world we take the temporary world around us for real, making it difficult to recognize our own eternal nature.\"),\n",
        "    LineInfo(750, 100,  15, 680, 10, 100, True, 'yellow', 'Left', True, \"footer\", \"1\"),\n",
        "]\n",
        "\n",
        "\n",
        "from PIL import Image\n",
        "\n",
        "from PIL import Image, ImageDraw\n",
        "\n",
        "def round_corners(image, radius):\n",
        "    \"\"\"\n",
        "    Rounds the corners of a PIL Image.\n",
        "\n",
        "    Parameters:\n",
        "        image: The image to round.\n",
        "        radius: The radius of the rounded corners.\n",
        "\n",
        "    Returns:\n",
        "        The image with rounded corners.\n",
        "    \"\"\"\n",
        "    # Create a mask of the same size as the image\n",
        "    mask = Image.new('L', image.size, 0)\n",
        "\n",
        "    # Draw four filled circles of the specified radius in the corners of the mask\n",
        "    draw = ImageDraw.Draw(mask)\n",
        "    draw.ellipse((0, 0, radius * 2, radius * 2), fill=255)\n",
        "    draw.ellipse((image.width - radius * 2, 0, image.width, radius * 2), fill=255)\n",
        "    draw.ellipse((0, image.height - radius * 2, radius * 2, image.height), fill=255)\n",
        "    draw.ellipse((image.width - radius * 2, image.height - radius * 2, image.width, image.height), fill=255)\n",
        "\n",
        "    # Draw four rectangles to fill in the rest of the mask\n",
        "    draw.rectangle((radius, 0, image.width - radius, image.height), fill=255)\n",
        "    draw.rectangle((0, radius, image.width, image.height - radius), fill=255)\n",
        "\n",
        "    # Apply the mask to the image\n",
        "    result = Image.new('RGBA', image.size)\n",
        "    result.paste(image, mask=mask)\n",
        "\n",
        "    return result\n",
        "\n",
        "\n",
        "\n",
        "def main():\n",
        "    # Create a blank white image\n",
        "    # width and height for a standard playing card at 300 dpi\n",
        "    width, height = 750, 1050\n",
        "    img = Image.new('RGBA', (width, height))\n",
        "\n",
        "    # Load an image\n",
        "    bk_img = Image.open('background.jpg')\n",
        "\n",
        "    # Define the size of the border\n",
        "    border_size = 15  # Adjust this value to change the size of the border\n",
        "\n",
        "    # Resize the background image to be slightly smaller than the main image\n",
        "    bk_img = bk_img.resize((width - 2*border_size, height - 2*border_size), Image.ANTIALIAS)\n",
        "\n",
        "   # Round the corners of the background image\n",
        "    bk_img = round_corners(bk_img, 50)  # Adjust the radius as needed\n",
        "\n",
        "\n",
        "    # Convert the images to 'RGBA' mode\n",
        "    img = img.convert(\"RGBA\")\n",
        "    bk_img = bk_img.convert(\"RGBA\")\n",
        "\n",
        "    # Overlay the background onto the existing image, centered to create a border\n",
        "    img.paste(bk_img, (border_size, border_size))\n",
        "\n",
        "    # Define the initial position for the text\n",
        "    pos = (0, 50)\n",
        "\n",
        "    # Draw the text on the image\n",
        "    for line_info in line_info_list:\n",
        "        # Load the font with the size from LineInfo\n",
        "        font = ImageFont.truetype('NotoSansDevanagari-Bold.ttf', line_info.font_size)\n",
        "\n",
        "        # Create a draw object\n",
        "        d = ImageDraw.Draw(img)\n",
        "\n",
        "        # Adjust position for header and footer\n",
        "        if line_info.line_type == \"header\":\n",
        "            pos = (line_info.left_padding, line_info.top_padding)\n",
        "        elif line_info.line_type == \"footer\":\n",
        "            pos = (line_info.left_padding, height - line_info.bottom_padding - line_info.font_size)\n",
        "        else:\n",
        "            pos = (line_info.left_padding, pos[1]+line_info.top_padding)\n",
        "\n",
        "        lines = textwrap.wrap(line_info.text, width=(line_info.textbox_width - line_info.left_padding - line_info.right_padding)//font.getsize(' ')[0])\n",
        "        for line in lines:\n",
        "            # Calculate the width of the line and adjust the position\n",
        "            line_width = font.getsize(line)[0]\n",
        "            if line_info.justify == 'center':\n",
        "                pos = ((width - line_width) // 2, pos[1])\n",
        "            elif line_info.justify == 'right':\n",
        "                pos = (width - line_width - line_info.right_padding, pos[1])\n",
        "            else:  # left\n",
        "                pos = (line_info.left_padding, pos[1])\n",
        "\n",
        "            # Check if the text should be inverted\n",
        "            if line_info.invert:\n",
        "                # Create a new image for the text\n",
        "                text_img = Image.new('RGB', (line_width, font.getsize(line)[1]), color = 'black')\n",
        "                text_d = ImageDraw.Draw(text_img)\n",
        "\n",
        "                # Draw the text on the new image\n",
        "                text_d.text((0, 0), line, fill=line_info.color, font=font)\n",
        "\n",
        "                # Rotate the image\n",
        "                text_img = text_img.rotate(180)\n",
        "\n",
        "                # Paste the rotated image on the main image\n",
        "                img.paste(text_img, pos)\n",
        "            else:\n",
        "                d.text(pos, line, fill=line_info.color, font=font)\n",
        "\n",
        "            pos = (line_info.left_padding, pos[1] + font.getsize(line)[1])\n",
        "\n",
        "        pos = line_info.left_padding, pos[1] + line_info.bottom_padding\n",
        "\n",
        "    # Save the image\n",
        "    img.save('text_box.png')\n",
        "\n",
        "if __name__ == \"__main__\":\n",
        "    main()"
      ],
      "metadata": {
        "id": "2ZgjYIkRfD6c",
        "colab": {
          "base_uri": "https://localhost:8080/"
        },
        "outputId": "d4dc9813-c14a-4954-e7e6-af44a3cea554"
      },
      "execution_count": 5,
      "outputs": [
        {
          "output_type": "stream",
          "name": "stdout",
          "text": [
            "Cloning into 'DesignCardsPy'...\n",
            "remote: Enumerating objects: 10, done.\u001b[K\n",
            "remote: Counting objects: 100% (10/10), done.\u001b[K\n",
            "remote: Compressing objects: 100% (8/8), done.\u001b[K\n",
            "remote: Total 10 (delta 0), reused 3 (delta 0), pack-reused 0\u001b[K\n",
            "Receiving objects: 100% (10/10), 121.57 KiB | 20.26 MiB/s, done.\n"
          ]
        }
      ]
    },
    {
      "cell_type": "markdown",
      "source": [
        "# New Section"
      ],
      "metadata": {
        "id": "84M4SNPmgJvQ"
      }
    },
    {
      "cell_type": "markdown",
      "source": [
        "# New Section"
      ],
      "metadata": {
        "id": "-hTZlzujc1sH"
      }
    }
  ]
}